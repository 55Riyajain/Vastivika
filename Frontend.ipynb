{
  "nbformat": 4,
  "nbformat_minor": 0,
  "metadata": {
    "colab": {
      "provenance": [],
      "authorship_tag": "ABX9TyN+cPJBdndXIrVjuhgrrz6R",
      "include_colab_link": true
    },
    "kernelspec": {
      "name": "python3",
      "display_name": "Python 3"
    },
    "language_info": {
      "name": "python"
    }
  },
  "cells": [
    {
      "cell_type": "markdown",
      "metadata": {
        "id": "view-in-github",
        "colab_type": "text"
      },
      "source": [
        "<a href=\"https://colab.research.google.com/github/55Riyajain/Vastivika/blob/main/Frontend.ipynb\" target=\"_parent\"><img src=\"https://colab.research.google.com/assets/colab-badge.svg\" alt=\"Open In Colab\"/></a>"
      ]
    },
    {
      "cell_type": "code",
      "execution_count": null,
      "metadata": {
        "id": "4I8pB32ISVK6"
      },
      "outputs": [],
      "source": [
        "import instaloader\n",
        "import numpy as np\n",
        "import os\n",
        "import cv2\n",
        "\n",
        "# Function to check suspicious keywords in bio\n",
        "def check_fake(main_string, substrings):\n",
        "    main_string = main_string.lower()\n",
        "\n",
        "    for substring in substrings:\n",
        "        if substring in main_string:\n",
        "            print(\"Suspicious keywords found in bio as per recently collected data\")\n",
        "            return\n",
        "    print(\"No suspicious keywords found in bio as per recently collected data!\")\n",
        "\n",
        "# Function to compare images and calculate similarity\n",
        "def compare_images(image1, image2):\n",
        "    # Compute Mean Squared Error (MSE) between the two images\n",
        "    mse = np.mean((image1 - image2) ** 2)\n",
        "\n",
        "    if mse == 0:\n",
        "        return 100  # If the images are identical\n",
        "\n",
        "    similarity = 10 * np.log10((255 * 255) / mse)\n",
        "    return similarity\n",
        "\n",
        "# Initialize Instaloader\n",
        "loader = instaloader.Instaloader()\n",
        "\n",
        "# Inputs from the user\n",
        "inpusername = input(\"Enter the username of the suspected account: \")\n",
        "realusername = input(\"Enter the username of the real account: \")\n",
        "\n",
        "# Get the profile data for the suspected user\n",
        "profile = instaloader.Profile.from_username(loader.context, inpusername)\n",
        "follower_count = profile.followers\n",
        "\n",
        "# Display the follower count\n",
        "print(\"Follower count is:\", follower_count)\n",
        "\n",
        "# Get the bio of the suspected account\n",
        "main_str = profile.biography\n",
        "print(\"Bio:\", main_str)\n",
        "\n",
        "# List of suspicious keywords\n",
        "substrs = [\"invest\", \"click\", \"crypto\", \"free\", \"S\", \"get now\"]\n",
        "check_fake(main_str, substrs)\n",
        "\n",
        "# Checking profile picture similarity\n",
        "print(\"Checking profile picture...\")\n",
        "# Replace 'fakeimgname' and 'realimgname' with actual file paths for comparison\n",
        "fake_img_name = \"path_to_fake_profile_picture.jpg\"\n",
        "real_img_name = \"path_to_real_profile_picture.jpg\"\n",
        "\n",
        "# Read the images using OpenCV\n",
        "image1 = cv2.imread(fake_img_name)\n",
        "image2 = cv2.imread(real_img_name)\n",
        "\n",
        "# Ensure the images were loaded\n",
        "if image1 is not None and image2 is not None:\n",
        "    similarity = compare_images(image1, image2)\n",
        "\n",
        "    if similarity < 20:\n",
        "        print(\"Very poor image quality. The two images are very different.\")\n",
        "    elif 20 <= similarity < 30:\n",
        "        print(\"Poor image quality. The two images are somewhat similar, but there are noticeable differences.\")\n",
        "    elif 30 <= similarity < 40:\n",
        "        print(\"Good image quality. The two images are very similar, and the differences are not noticeable to the human eye.\")\n",
        "    elif 40 <= similarity < 50:\n",
        "        print(\"Excellent image quality. The two images are almost identical.\")\n",
        "    else:\n",
        "        print(\"The two images are indistinguishable to the human eye.\")\n",
        "else:\n",
        "    print(\"Error loading images.\")"
      ]
    }
  ]
}